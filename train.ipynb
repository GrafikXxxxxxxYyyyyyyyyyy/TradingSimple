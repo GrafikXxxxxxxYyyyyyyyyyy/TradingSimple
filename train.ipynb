{
 "cells": [
  {
   "cell_type": "code",
   "execution_count": null,
   "id": "d0d3b862",
   "metadata": {},
   "outputs": [],
   "source": [
    "from utils.dataset import TSProcessor, TSDataset\n"
   ]
  },
  {
   "cell_type": "code",
   "execution_count": null,
   "id": "c1c70a45",
   "metadata": {},
   "outputs": [],
   "source": []
  },
  {
   "cell_type": "code",
   "execution_count": null,
   "id": "8724d234",
   "metadata": {},
   "outputs": [],
   "source": []
  }
 ],
 "metadata": {
  "language_info": {
   "name": "python"
  }
 },
 "nbformat": 4,
 "nbformat_minor": 5
}
