{
 "cells": [
  {
   "cell_type": "markdown",
   "id": "7237bbc9",
   "metadata": {},
   "source": [
    "### Инициализируем датасет"
   ]
  },
  {
   "cell_type": "code",
   "execution_count": null,
   "id": "d0d3b862",
   "metadata": {},
   "outputs": [],
   "source": [
    "from utils.dataset import TSProcessor, TSDataset\n",
    "\n",
    "processor = TSProcessor()\n",
    "\n",
    "dataset = TSDataset(\n",
    "    data_path='data/',\n",
    "    mode='train',\n",
    "    history_len=256,\n",
    "    target_len=32,\n",
    "    processor=processor,\n",
    ")"
   ]
  },
  {
   "cell_type": "markdown",
   "id": "733dbb1d",
   "metadata": {},
   "source": [
    "### Инициализируем модель"
   ]
  },
  {
   "cell_type": "code",
   "execution_count": null,
   "id": "c1c70a45",
   "metadata": {},
   "outputs": [],
   "source": [
    "from models.model_wrapper import TSModel\n",
    "\n",
    "wrapper = TSModel.from_config('src/transformer/config.json', device='mps')"
   ]
  },
  {
   "cell_type": "markdown",
   "id": "a6fdc0de",
   "metadata": {},
   "source": [
    "### Инициализируем тренировочный пайплайн"
   ]
  },
  {
   "cell_type": "code",
   "execution_count": null,
   "id": "8724d234",
   "metadata": {},
   "outputs": [],
   "source": [
    "from pipelines.train_pipeline import TSTrainingArgs, TSTrainer\n",
    "\n",
    "args = TSTrainingArgs(\n",
    "    train_batch_size=16,\n",
    "    output_dir='pretrained-models',\n",
    "    num_train_epochs=1,\n",
    "    learning_rate=1e-4,\n",
    "    save_steps=1000,\n",
    ")\n",
    "\n",
    "trainer = TSTrainer(\n",
    "    model=wrapper,\n",
    "    args=args,\n",
    "    train_dataset=dataset\n",
    ")"
   ]
  },
  {
   "cell_type": "code",
   "execution_count": null,
   "id": "f9206059",
   "metadata": {},
   "outputs": [],
   "source": [
    "trainer.train()"
   ]
  }
 ],
 "metadata": {
  "kernelspec": {
   "display_name": ".TSvenv",
   "language": "python",
   "name": "python3"
  },
  "language_info": {
   "codemirror_mode": {
    "name": "ipython",
    "version": 3
   },
   "file_extension": ".py",
   "mimetype": "text/x-python",
   "name": "python",
   "nbconvert_exporter": "python",
   "pygments_lexer": "ipython3",
   "version": "3.11.2"
  }
 },
 "nbformat": 4,
 "nbformat_minor": 5
}
